{
 "cells": [
  {
   "cell_type": "markdown",
   "metadata": {
    "id": "6udPF9-sWn0-"
   },
   "source": [
    "# Importing neccessary libraries"
   ]
  },
  {
   "cell_type": "code",
   "execution_count": null,
   "metadata": {
    "executionInfo": {
     "elapsed": 7,
     "status": "ok",
     "timestamp": 1737460496705,
     "user": {
      "displayName": "Trương Công Gia Phát",
      "userId": "05267275198321250233"
     },
     "user_tz": -420
    },
    "id": "lhlNpPIeFyjX"
   },
   "outputs": [],
   "source": [
    "import pandas as pd\n",
    "import matplotlib.pyplot as plt\n",
    "import seaborn as sns\n",
    "import numpy as np\n",
    "from collections import Counter\n",
    "from bs4 import BeautifulSoup\n",
    "import requests\n",
    "import ast\n",
    "import glob"
   ]
  },
  {
   "cell_type": "markdown",
   "metadata": {
    "id": "imM-oTdPXIF6"
   },
   "source": [
    "## Read 2 dataframes"
   ]
  },
  {
   "cell_type": "code",
   "execution_count": 2,
   "metadata": {
    "colab": {
     "base_uri": "https://localhost:8080/"
    },
    "executionInfo": {
     "elapsed": 20874,
     "status": "ok",
     "timestamp": 1737460517573,
     "user": {
      "displayName": "Trương Công Gia Phát",
      "userId": "05267275198321250233"
     },
     "user_tz": -420
    },
    "id": "cwE5LGhGIive",
    "outputId": "fcd62349-f1c4-4630-c6ca-586ff01390f0"
   },
   "outputs": [],
   "source": [
    "#Read the data\n",
    "animes_df = pd.read_csv('data/anime_data.csv')"
   ]
  },
  {
   "cell_type": "code",
   "execution_count": 3,
   "metadata": {
    "colab": {
     "base_uri": "https://localhost:8080/",
     "height": 1000
    },
    "executionInfo": {
     "elapsed": 19,
     "status": "ok",
     "timestamp": 1737460517573,
     "user": {
      "displayName": "Trương Công Gia Phát",
      "userId": "05267275198321250233"
     },
     "user_tz": -420
    },
    "id": "jufkJ8YXWyIP",
    "outputId": "84142d19-9116-4026-fce8-2fc5f7a7c23c"
   },
   "outputs": [
    {
     "data": {
      "text/html": [
       "<div>\n",
       "<style scoped>\n",
       "    .dataframe tbody tr th:only-of-type {\n",
       "        vertical-align: middle;\n",
       "    }\n",
       "\n",
       "    .dataframe tbody tr th {\n",
       "        vertical-align: top;\n",
       "    }\n",
       "\n",
       "    .dataframe thead th {\n",
       "        text-align: right;\n",
       "    }\n",
       "</style>\n",
       "<table border=\"1\" class=\"dataframe\">\n",
       "  <thead>\n",
       "    <tr style=\"text-align: right;\">\n",
       "      <th></th>\n",
       "      <th>ID</th>\n",
       "      <th>Name</th>\n",
       "      <th>Type</th>\n",
       "      <th>Episodes</th>\n",
       "      <th>Aired</th>\n",
       "      <th>Members</th>\n",
       "      <th>Scores</th>\n",
       "    </tr>\n",
       "  </thead>\n",
       "  <tbody>\n",
       "    <tr>\n",
       "      <th>0</th>\n",
       "      <td>52991</td>\n",
       "      <td>Sousou no Frieren</td>\n",
       "      <td>TV</td>\n",
       "      <td>28</td>\n",
       "      <td>Sep 2023 - Mar 2024</td>\n",
       "      <td>1,089,617 members</td>\n",
       "      <td>9.30</td>\n",
       "    </tr>\n",
       "    <tr>\n",
       "      <th>1</th>\n",
       "      <td>5114</td>\n",
       "      <td>Fullmetal Alchemist: Brotherhood</td>\n",
       "      <td>TV</td>\n",
       "      <td>64</td>\n",
       "      <td>Apr 2009 - Jul 2010</td>\n",
       "      <td>3,507,677 members</td>\n",
       "      <td>9.10</td>\n",
       "    </tr>\n",
       "    <tr>\n",
       "      <th>2</th>\n",
       "      <td>9253</td>\n",
       "      <td>Steins;Gate</td>\n",
       "      <td>TV</td>\n",
       "      <td>24</td>\n",
       "      <td>Apr 2011 - Sep 2011</td>\n",
       "      <td>2,686,894 members</td>\n",
       "      <td>9.07</td>\n",
       "    </tr>\n",
       "    <tr>\n",
       "      <th>3</th>\n",
       "      <td>38524</td>\n",
       "      <td>Shingeki no Kyojin Season 3 Part 2</td>\n",
       "      <td>TV</td>\n",
       "      <td>10</td>\n",
       "      <td>Apr 2019 - Jul 2019</td>\n",
       "      <td>2,431,574 members</td>\n",
       "      <td>9.05</td>\n",
       "    </tr>\n",
       "    <tr>\n",
       "      <th>4</th>\n",
       "      <td>60022</td>\n",
       "      <td>One Piece Fan Letter</td>\n",
       "      <td>TV Special</td>\n",
       "      <td>1</td>\n",
       "      <td>Oct 2024 - Oct 2024</td>\n",
       "      <td>104,168 members</td>\n",
       "      <td>9.05</td>\n",
       "    </tr>\n",
       "    <tr>\n",
       "      <th>5</th>\n",
       "      <td>28977</td>\n",
       "      <td>Gintama°</td>\n",
       "      <td>TV</td>\n",
       "      <td>51</td>\n",
       "      <td>Apr 2015 - Mar 2016</td>\n",
       "      <td>663,359 members</td>\n",
       "      <td>9.05</td>\n",
       "    </tr>\n",
       "    <tr>\n",
       "      <th>6</th>\n",
       "      <td>39486</td>\n",
       "      <td>Gintama: The Final</td>\n",
       "      <td>Movie</td>\n",
       "      <td>1</td>\n",
       "      <td>Jan 2021 - Jan 2021</td>\n",
       "      <td>167,765 members</td>\n",
       "      <td>9.04</td>\n",
       "    </tr>\n",
       "    <tr>\n",
       "      <th>7</th>\n",
       "      <td>11061</td>\n",
       "      <td>Hunter x Hunter (2011)</td>\n",
       "      <td>TV</td>\n",
       "      <td>148</td>\n",
       "      <td>Oct 2011 - Sep 2014</td>\n",
       "      <td>3,006,879 members</td>\n",
       "      <td>9.03</td>\n",
       "    </tr>\n",
       "    <tr>\n",
       "      <th>8</th>\n",
       "      <td>9969</td>\n",
       "      <td>Gintama'</td>\n",
       "      <td>TV</td>\n",
       "      <td>51</td>\n",
       "      <td>Apr 2011 - Mar 2012</td>\n",
       "      <td>586,616 members</td>\n",
       "      <td>9.02</td>\n",
       "    </tr>\n",
       "    <tr>\n",
       "      <th>9</th>\n",
       "      <td>15417</td>\n",
       "      <td>Gintama': Enchousen</td>\n",
       "      <td>TV</td>\n",
       "      <td>13</td>\n",
       "      <td>Oct 2012 - Mar 2013</td>\n",
       "      <td>342,717 members</td>\n",
       "      <td>9.02</td>\n",
       "    </tr>\n",
       "  </tbody>\n",
       "</table>\n",
       "</div>"
      ],
      "text/plain": [
       "      ID                                Name        Type Episodes  \\\n",
       "0  52991                   Sousou no Frieren          TV       28   \n",
       "1   5114    Fullmetal Alchemist: Brotherhood          TV       64   \n",
       "2   9253                         Steins;Gate          TV       24   \n",
       "3  38524  Shingeki no Kyojin Season 3 Part 2          TV       10   \n",
       "4  60022                One Piece Fan Letter  TV Special        1   \n",
       "5  28977                            Gintama°          TV       51   \n",
       "6  39486                  Gintama: The Final       Movie        1   \n",
       "7  11061              Hunter x Hunter (2011)          TV      148   \n",
       "8   9969                            Gintama'          TV       51   \n",
       "9  15417                 Gintama': Enchousen          TV       13   \n",
       "\n",
       "                 Aired            Members  Scores  \n",
       "0  Sep 2023 - Mar 2024  1,089,617 members    9.30  \n",
       "1  Apr 2009 - Jul 2010  3,507,677 members    9.10  \n",
       "2  Apr 2011 - Sep 2011  2,686,894 members    9.07  \n",
       "3  Apr 2019 - Jul 2019  2,431,574 members    9.05  \n",
       "4  Oct 2024 - Oct 2024    104,168 members    9.05  \n",
       "5  Apr 2015 - Mar 2016    663,359 members    9.05  \n",
       "6  Jan 2021 - Jan 2021    167,765 members    9.04  \n",
       "7  Oct 2011 - Sep 2014  3,006,879 members    9.03  \n",
       "8  Apr 2011 - Mar 2012    586,616 members    9.02  \n",
       "9  Oct 2012 - Mar 2013    342,717 members    9.02  "
      ]
     },
     "execution_count": 3,
     "metadata": {},
     "output_type": "execute_result"
    }
   ],
   "source": [
    "animes_df.head(10)"
   ]
  },
  {
   "cell_type": "markdown",
   "metadata": {
    "id": "FpQgvZ2hXaNc"
   },
   "source": [
    "# 1. Exploring data"
   ]
  },
  {
   "cell_type": "markdown",
   "metadata": {
    "id": "-yRoQI2BX7hJ"
   },
   "source": [
    "## How many rows and how many columns?"
   ]
  },
  {
   "cell_type": "code",
   "execution_count": 4,
   "metadata": {
    "colab": {
     "base_uri": "https://localhost:8080/"
    },
    "executionInfo": {
     "elapsed": 15,
     "status": "ok",
     "timestamp": 1737460517573,
     "user": {
      "displayName": "Trương Công Gia Phát",
      "userId": "05267275198321250233"
     },
     "user_tz": -420
    },
    "id": "_IHcmpjXXftA",
    "outputId": "0c9094dd-a0a0-4254-d89f-abfb2034194e"
   },
   "outputs": [
    {
     "name": "stdout",
     "output_type": "stream",
     "text": [
      "The anime data has 7150 rows and 7 columns.\n"
     ]
    }
   ],
   "source": [
    "print(f\"The anime data has {animes_df.shape[0]} rows and {animes_df.shape[1]} columns.\")"
   ]
  },
  {
   "cell_type": "markdown",
   "metadata": {
    "id": "YiNoarQzYqol"
   },
   "source": [
    "## What is the current data type of each column? Are there columns having inappropriate data types?"
   ]
  },
  {
   "cell_type": "code",
   "execution_count": 5,
   "metadata": {
    "colab": {
     "base_uri": "https://localhost:8080/"
    },
    "executionInfo": {
     "elapsed": 13,
     "status": "ok",
     "timestamp": 1737460517573,
     "user": {
      "displayName": "Trương Công Gia Phát",
      "userId": "05267275198321250233"
     },
     "user_tz": -420
    },
    "id": "pwIwcdxIYtCi",
    "outputId": "ee7c8c4c-9694-4303-9399-ee4c17e42cc6"
   },
   "outputs": [
    {
     "name": "stdout",
     "output_type": "stream",
     "text": [
      "<class 'pandas.core.frame.DataFrame'>\n",
      "RangeIndex: 7150 entries, 0 to 7149\n",
      "Data columns (total 7 columns):\n",
      " #   Column    Non-Null Count  Dtype  \n",
      "---  ------    --------------  -----  \n",
      " 0   ID        7150 non-null   int64  \n",
      " 1   Name      7150 non-null   object \n",
      " 2   Type      7150 non-null   object \n",
      " 3   Episodes  7150 non-null   object \n",
      " 4   Aired     7150 non-null   object \n",
      " 5   Members   7150 non-null   object \n",
      " 6   Scores    7150 non-null   float64\n",
      "dtypes: float64(1), int64(1), object(5)\n",
      "memory usage: 391.1+ KB\n"
     ]
    }
   ],
   "source": [
    "animes_df.info()"
   ]
  },
  {
   "cell_type": "markdown",
   "metadata": {
    "id": "6H6xsCr0b10r"
   },
   "source": [
    "We should preprocess the column Members so it has an int data type."
   ]
  },
  {
   "cell_type": "code",
   "execution_count": 6,
   "metadata": {},
   "outputs": [],
   "source": [
    "animes_df['Members'] = animes_df['Members'].str.replace(' members', '', regex=False)\n",
    "animes_df['Members'] = animes_df['Members'].str.replace(',', '', regex=False)\n",
    "animes_df['Members'] = animes_df['Members'].astype('int64')"
   ]
  },
  {
   "cell_type": "code",
   "execution_count": 7,
   "metadata": {},
   "outputs": [
    {
     "name": "stdout",
     "output_type": "stream",
     "text": [
      "<class 'pandas.core.frame.DataFrame'>\n",
      "RangeIndex: 7150 entries, 0 to 7149\n",
      "Data columns (total 7 columns):\n",
      " #   Column    Non-Null Count  Dtype  \n",
      "---  ------    --------------  -----  \n",
      " 0   ID        7150 non-null   int64  \n",
      " 1   Name      7150 non-null   object \n",
      " 2   Type      7150 non-null   object \n",
      " 3   Episodes  7150 non-null   object \n",
      " 4   Aired     7150 non-null   object \n",
      " 5   Members   7150 non-null   int64  \n",
      " 6   Scores    7150 non-null   float64\n",
      "dtypes: float64(1), int64(2), object(4)\n",
      "memory usage: 391.1+ KB\n"
     ]
    }
   ],
   "source": [
    "animes_df.info()"
   ]
  },
  {
   "cell_type": "markdown",
   "metadata": {
    "id": "hCM_VWnlZlgs"
   },
   "source": [
    "## With each numerical column, how are values distributed in movies dataframe?"
   ]
  },
  {
   "cell_type": "code",
   "execution_count": 8,
   "metadata": {
    "colab": {
     "base_uri": "https://localhost:8080/",
     "height": 143
    },
    "executionInfo": {
     "elapsed": 11,
     "status": "ok",
     "timestamp": 1737460517574,
     "user": {
      "displayName": "Trương Công Gia Phát",
      "userId": "05267275198321250233"
     },
     "user_tz": -420
    },
    "id": "q2PR0pSQZetA",
    "outputId": "1f4fe54b-c7c1-4e8d-8fdb-d3aa692774e0"
   },
   "outputs": [
    {
     "data": {
      "text/html": [
       "<div>\n",
       "<style scoped>\n",
       "    .dataframe tbody tr th:only-of-type {\n",
       "        vertical-align: middle;\n",
       "    }\n",
       "\n",
       "    .dataframe tbody tr th {\n",
       "        vertical-align: top;\n",
       "    }\n",
       "\n",
       "    .dataframe thead th {\n",
       "        text-align: right;\n",
       "    }\n",
       "</style>\n",
       "<table border=\"1\" class=\"dataframe\">\n",
       "  <thead>\n",
       "    <tr style=\"text-align: right;\">\n",
       "      <th></th>\n",
       "      <th>ID</th>\n",
       "      <th>Members</th>\n",
       "      <th>Scores</th>\n",
       "    </tr>\n",
       "  </thead>\n",
       "  <tbody>\n",
       "    <tr>\n",
       "      <th>missing_ratio</th>\n",
       "      <td>0.0</td>\n",
       "      <td>0.0</td>\n",
       "      <td>0.0</td>\n",
       "    </tr>\n",
       "    <tr>\n",
       "      <th>min</th>\n",
       "      <td>1.0</td>\n",
       "      <td>219.0</td>\n",
       "      <td>6.5</td>\n",
       "    </tr>\n",
       "    <tr>\n",
       "      <th>max</th>\n",
       "      <td>61393.0</td>\n",
       "      <td>4143777.0</td>\n",
       "      <td>9.3</td>\n",
       "    </tr>\n",
       "  </tbody>\n",
       "</table>\n",
       "</div>"
      ],
      "text/plain": [
       "                    ID    Members  Scores\n",
       "missing_ratio      0.0        0.0     0.0\n",
       "min                1.0      219.0     6.5\n",
       "max            61393.0  4143777.0     9.3"
      ]
     },
     "execution_count": 8,
     "metadata": {},
     "output_type": "execute_result"
    }
   ],
   "source": [
    "num_col_info_df = animes_df.select_dtypes(exclude='object')\n",
    "def missing_ratio(s):\n",
    "    return (s.isna().mean() * 100).round(1)\n",
    "\n",
    "\n",
    "num_col_info_df = num_col_info_df.agg([missing_ratio, \"min\", \"max\"])\n",
    "num_col_info_df"
   ]
  },
  {
   "cell_type": "markdown",
   "metadata": {
    "id": "fLdodlv-aJjl"
   },
   "source": [
    "# 2. Data Preprocessing and EDA"
   ]
  },
  {
   "cell_type": "markdown",
   "metadata": {},
   "source": [
    "I plan to label each anime based on their score, from my personal experience, animes that are rated from 8.5 and above 9 can be considered a \"Masterpiece\", from 7.8 to 8.5 is a \"Good watch\", from 7.2 to 7.8 is a 'Watchable\" anime and from 6.5 to 7.2 is \"Terrible\" anime."
   ]
  },
  {
   "cell_type": "code",
   "execution_count": 9,
   "metadata": {},
   "outputs": [],
   "source": [
    "conditions = [animes_df['Scores'] >= 8.1,\n",
    "              (animes_df['Scores'] >= 7.6) & (animes_df['Scores'] < 8.1),\n",
    "              (animes_df['Scores'] >= 7.2) & (animes_df['Scores'] < 7.6),\n",
    "              (animes_df['Scores'] >= 6.5) & (animes_df['Scores']) < 7.2]\n",
    "labels = ['Top-tier', 'Worthwhile', 'Watchable', 'Terrible']\n",
    "\n",
    "animes_df[\"Label\"] = np.select(conditions, labels, default='Unrated')"
   ]
  },
  {
   "cell_type": "code",
   "execution_count": 10,
   "metadata": {},
   "outputs": [
    {
     "data": {
      "text/html": [
       "<div>\n",
       "<style scoped>\n",
       "    .dataframe tbody tr th:only-of-type {\n",
       "        vertical-align: middle;\n",
       "    }\n",
       "\n",
       "    .dataframe tbody tr th {\n",
       "        vertical-align: top;\n",
       "    }\n",
       "\n",
       "    .dataframe thead th {\n",
       "        text-align: right;\n",
       "    }\n",
       "</style>\n",
       "<table border=\"1\" class=\"dataframe\">\n",
       "  <thead>\n",
       "    <tr style=\"text-align: right;\">\n",
       "      <th></th>\n",
       "      <th>ID</th>\n",
       "      <th>Name</th>\n",
       "      <th>Type</th>\n",
       "      <th>Episodes</th>\n",
       "      <th>Aired</th>\n",
       "      <th>Members</th>\n",
       "      <th>Scores</th>\n",
       "      <th>Label</th>\n",
       "    </tr>\n",
       "  </thead>\n",
       "  <tbody>\n",
       "    <tr>\n",
       "      <th>0</th>\n",
       "      <td>52991</td>\n",
       "      <td>Sousou no Frieren</td>\n",
       "      <td>TV</td>\n",
       "      <td>28</td>\n",
       "      <td>Sep 2023 - Mar 2024</td>\n",
       "      <td>1089617</td>\n",
       "      <td>9.30</td>\n",
       "      <td>Top-tier</td>\n",
       "    </tr>\n",
       "    <tr>\n",
       "      <th>1</th>\n",
       "      <td>5114</td>\n",
       "      <td>Fullmetal Alchemist: Brotherhood</td>\n",
       "      <td>TV</td>\n",
       "      <td>64</td>\n",
       "      <td>Apr 2009 - Jul 2010</td>\n",
       "      <td>3507677</td>\n",
       "      <td>9.10</td>\n",
       "      <td>Top-tier</td>\n",
       "    </tr>\n",
       "    <tr>\n",
       "      <th>2</th>\n",
       "      <td>9253</td>\n",
       "      <td>Steins;Gate</td>\n",
       "      <td>TV</td>\n",
       "      <td>24</td>\n",
       "      <td>Apr 2011 - Sep 2011</td>\n",
       "      <td>2686894</td>\n",
       "      <td>9.07</td>\n",
       "      <td>Top-tier</td>\n",
       "    </tr>\n",
       "    <tr>\n",
       "      <th>3</th>\n",
       "      <td>38524</td>\n",
       "      <td>Shingeki no Kyojin Season 3 Part 2</td>\n",
       "      <td>TV</td>\n",
       "      <td>10</td>\n",
       "      <td>Apr 2019 - Jul 2019</td>\n",
       "      <td>2431574</td>\n",
       "      <td>9.05</td>\n",
       "      <td>Top-tier</td>\n",
       "    </tr>\n",
       "    <tr>\n",
       "      <th>4</th>\n",
       "      <td>60022</td>\n",
       "      <td>One Piece Fan Letter</td>\n",
       "      <td>TV Special</td>\n",
       "      <td>1</td>\n",
       "      <td>Oct 2024 - Oct 2024</td>\n",
       "      <td>104168</td>\n",
       "      <td>9.05</td>\n",
       "      <td>Top-tier</td>\n",
       "    </tr>\n",
       "    <tr>\n",
       "      <th>5</th>\n",
       "      <td>28977</td>\n",
       "      <td>Gintama°</td>\n",
       "      <td>TV</td>\n",
       "      <td>51</td>\n",
       "      <td>Apr 2015 - Mar 2016</td>\n",
       "      <td>663359</td>\n",
       "      <td>9.05</td>\n",
       "      <td>Top-tier</td>\n",
       "    </tr>\n",
       "    <tr>\n",
       "      <th>6</th>\n",
       "      <td>39486</td>\n",
       "      <td>Gintama: The Final</td>\n",
       "      <td>Movie</td>\n",
       "      <td>1</td>\n",
       "      <td>Jan 2021 - Jan 2021</td>\n",
       "      <td>167765</td>\n",
       "      <td>9.04</td>\n",
       "      <td>Top-tier</td>\n",
       "    </tr>\n",
       "    <tr>\n",
       "      <th>7</th>\n",
       "      <td>11061</td>\n",
       "      <td>Hunter x Hunter (2011)</td>\n",
       "      <td>TV</td>\n",
       "      <td>148</td>\n",
       "      <td>Oct 2011 - Sep 2014</td>\n",
       "      <td>3006879</td>\n",
       "      <td>9.03</td>\n",
       "      <td>Top-tier</td>\n",
       "    </tr>\n",
       "    <tr>\n",
       "      <th>8</th>\n",
       "      <td>9969</td>\n",
       "      <td>Gintama'</td>\n",
       "      <td>TV</td>\n",
       "      <td>51</td>\n",
       "      <td>Apr 2011 - Mar 2012</td>\n",
       "      <td>586616</td>\n",
       "      <td>9.02</td>\n",
       "      <td>Top-tier</td>\n",
       "    </tr>\n",
       "    <tr>\n",
       "      <th>9</th>\n",
       "      <td>15417</td>\n",
       "      <td>Gintama': Enchousen</td>\n",
       "      <td>TV</td>\n",
       "      <td>13</td>\n",
       "      <td>Oct 2012 - Mar 2013</td>\n",
       "      <td>342717</td>\n",
       "      <td>9.02</td>\n",
       "      <td>Top-tier</td>\n",
       "    </tr>\n",
       "  </tbody>\n",
       "</table>\n",
       "</div>"
      ],
      "text/plain": [
       "      ID                                Name        Type Episodes  \\\n",
       "0  52991                   Sousou no Frieren          TV       28   \n",
       "1   5114    Fullmetal Alchemist: Brotherhood          TV       64   \n",
       "2   9253                         Steins;Gate          TV       24   \n",
       "3  38524  Shingeki no Kyojin Season 3 Part 2          TV       10   \n",
       "4  60022                One Piece Fan Letter  TV Special        1   \n",
       "5  28977                            Gintama°          TV       51   \n",
       "6  39486                  Gintama: The Final       Movie        1   \n",
       "7  11061              Hunter x Hunter (2011)          TV      148   \n",
       "8   9969                            Gintama'          TV       51   \n",
       "9  15417                 Gintama': Enchousen          TV       13   \n",
       "\n",
       "                 Aired  Members  Scores     Label  \n",
       "0  Sep 2023 - Mar 2024  1089617    9.30  Top-tier  \n",
       "1  Apr 2009 - Jul 2010  3507677    9.10  Top-tier  \n",
       "2  Apr 2011 - Sep 2011  2686894    9.07  Top-tier  \n",
       "3  Apr 2019 - Jul 2019  2431574    9.05  Top-tier  \n",
       "4  Oct 2024 - Oct 2024   104168    9.05  Top-tier  \n",
       "5  Apr 2015 - Mar 2016   663359    9.05  Top-tier  \n",
       "6  Jan 2021 - Jan 2021   167765    9.04  Top-tier  \n",
       "7  Oct 2011 - Sep 2014  3006879    9.03  Top-tier  \n",
       "8  Apr 2011 - Mar 2012   586616    9.02  Top-tier  \n",
       "9  Oct 2012 - Mar 2013   342717    9.02  Top-tier  "
      ]
     },
     "execution_count": 10,
     "metadata": {},
     "output_type": "execute_result"
    }
   ],
   "source": [
    "animes_df.head(10)"
   ]
  },
  {
   "cell_type": "markdown",
   "metadata": {},
   "source": [
    "Let's find out if the distribution is considerably even between labels"
   ]
  },
  {
   "cell_type": "code",
   "execution_count": 11,
   "metadata": {},
   "outputs": [
    {
     "data": {
      "image/png": "[encoded data removed]",
      "text/plain": [
       "<Figure size 800x500 with 1 Axes>"
      ]
     },
     "metadata": {},
     "output_type": "display_data"
    }
   ],
   "source": [
    "labels_count = animes_df['Label'].value_counts()\n",
    "\n",
    "plt.figure(figsize=(8,5))\n",
    "\n",
    "labels_count.plot(kind='bar', color='skyblue', edgecolor='black')\n",
    "\n",
    "plt.title('Labels Distributions')\n",
    "plt.xlabel('Labels')\n",
    "plt.ylabel('Number')\n",
    "\n",
    "plt.xticks(rotation=45)\n",
    "plt.tight_layout()\n",
    "plt.show()"
   ]
  },
  {
   "cell_type": "code",
   "execution_count": 12,
   "metadata": {},
   "outputs": [
    {
     "data": {
      "text/plain": [
       "Type\n",
       "TV            3312\n",
       "Movie         1274\n",
       "ONA            828\n",
       "OVA            798\n",
       "Special        673\n",
       "TV Special     265\n",
       "Name: count, dtype: int64"
      ]
     },
     "execution_count": 12,
     "metadata": {},
     "output_type": "execute_result"
    }
   ],
   "source": [
    "type_count = animes_df['Type'].value_counts()\n",
    "type_count"
   ]
  },
  {
   "cell_type": "code",
   "execution_count": 13,
   "metadata": {},
   "outputs": [
    {
     "data": {
      "image/png": "[encoded data removed]",
      "text/plain": [
       "<Figure size 800x500 with 1 Axes>"
      ]
     },
     "metadata": {},
     "output_type": "display_data"
    }
   ],
   "source": [
    "anime_TV_Movie_df = animes_df[(animes_df['Type'] == 'TV') | (animes_df['Type'] == 'Movie')]\n",
    "anime_TV_Movie_df = animes_df[animes_df['Members'] >= 100000]\n",
    "labels_count = anime_TV_Movie_df['Label'].value_counts()\n",
    "\n",
    "plt.figure(figsize=(8,5))\n",
    "\n",
    "labels_count.plot(kind='bar', color='skyblue', edgecolor='black')\n",
    "\n",
    "plt.title('Labels Distributions')\n",
    "plt.xlabel('Labels')\n",
    "plt.ylabel('Number')\n",
    "\n",
    "plt.xticks(rotation=45)\n",
    "plt.tight_layout()\n",
    "plt.show()"
   ]
  },
  {
   "cell_type": "markdown",
   "metadata": {},
   "source": [
    "Now that we get all of the anime we want, it's time to get more information such as Genres and Sypnosis."
   ]
  },
  {
   "cell_type": "code",
   "execution_count": null,
   "metadata": {},
   "outputs": [],
   "source": [
    "anime_ids = anime_TV_Movie_df['ID'].tolist()\n",
    "\n",
    "url = 'https://myanimelist.net/anime/'\n",
    "\n",
    "# for id in anime_ids:\n",
    "\n",
    "additional_info = {}\n",
    "additional_info['ID'] = []\n",
    "additional_info['Sypnosis'] = []\n",
    "additional_info['Genres'] = []\n",
    "for i in range(0,len(anime_ids)):\n",
    "    response = requests.get(url + str(anime_ids[i]))\n",
    "    if response.status_code == 200:\n",
    "        # response = requests.get(url + str(52991))\n",
    "        additional_info['ID'].append(anime_ids[i])\n",
    "        soup = BeautifulSoup(response.text, 'html.parser')\n",
    "        sypnosis = soup.find('p', attrs={'itemprop':'description'}).text\n",
    "        additional_info['Sypnosis'].append(sypnosis)\n",
    "\n",
    "        raw_genres_text = soup.find_all('span', attrs={'itemprop':'genre'})\n",
    "        genres = [tag.text.strip() for tag in raw_genres_text]\n",
    "        additional_info['Genres'].append(genres)\n",
    "    else: print(f\"Failed to retrieve data {response.status_code}\")  \n",
    "\n",
    "df = pd.DataFrame.from_dict(additional_info)\n",
    "\n",
    "df.to_csv(\"data/preprocessed_anime_data\", index=False)"
   ]
  },
  {
   "cell_type": "code",
   "execution_count": 30,
   "metadata": {},
   "outputs": [
    {
     "data": {
      "text/plain": [
       "2041"
      ]
     },
     "execution_count": 30,
     "metadata": {},
     "output_type": "execute_result"
    }
   ],
   "source": [
    "len(anime_ids)"
   ]
  },
  {
   "cell_type": "code",
   "execution_count": 64,
   "metadata": {},
   "outputs": [],
   "source": [
    "import glob\n",
    "csv_files = glob.glob('data/additional_data*.csv')\n",
    "additional_df = pd.concat([pd.read_csv(file) for file in csv_files], ignore_index=True)"
   ]
  },
  {
   "cell_type": "code",
   "execution_count": 66,
   "metadata": {},
   "outputs": [],
   "source": [
    "merged_df = pd.merge(anime_TV_Movie_df, additional_df, on='ID')"
   ]
  },
  {
   "cell_type": "code",
   "execution_count": 74,
   "metadata": {},
   "outputs": [],
   "source": [
    "merged_df['Genres'] = merged_df['Genres'].apply(lambda x: ', '.join(ast.literal_eval(x)) if isinstance(x, str) else x)"
   ]
  },
  {
   "cell_type": "code",
   "execution_count": 76,
   "metadata": {},
   "outputs": [],
   "source": [
    "merged_df.head(10)\n",
    "merged_df.to_csv('data/preprocessed_anime_data.csv', index=False)"
   ]
  },
  {
   "cell_type": "markdown",
   "metadata": {
    "id": "RS1G4O-xykK8"
   },
   "source": [
    "## 3. EDA"
   ]
  },
  {
   "cell_type": "markdown",
   "metadata": {
    "id": "Bu5gg3oDf5DZ"
   },
   "source": [
    "### 1. Top 10 movies with highest ratings"
   ]
  },
  {
   "cell_type": "code",
   "execution_count": 75,
   "metadata": {
    "colab": {
     "base_uri": "https://localhost:8080/"
    },
    "executionInfo": {
     "elapsed": 14,
     "status": "ok",
     "timestamp": 1737460521811,
     "user": {
      "displayName": "Trương Công Gia Phát",
      "userId": "05267275198321250233"
     },
     "user_tz": -420
    },
    "id": "YwF99482bP4t",
    "outputId": "dd9f9237-72d7-4587-d164-840615f08e6e"
   },
   "outputs": [
    {
     "name": "stdout",
     "output_type": "stream",
     "text": [
      "                                            title                  genres\n",
      "movieId                                                                  \n",
      "189                                      Reckless  Fantasy, Comedy, Drama\n",
      "722      The Haunted World of Edward D. Wood, Jr.             Documentary\n",
      "756        Carmen Miranda: Bananas Is My Business             Documentary\n",
      "1870                        Dancer, Texas Pop. 81   Comedy, Drama, Family\n",
      "26655      Common Threads: Stories from the Quilt    History, Documentary\n",
      "55757                     Chilly Scenes of Winter  Comedy, Drama, Romance\n",
      "160590                        Survive and Advance                        \n",
      "93040                               The Civil War             Documentary\n",
      "8954                        Lightning in a Bottle                        \n",
      "98803                        Little Miss Broadway    Drama, Family, Music\n"
     ]
    }
   ],
   "source": [
    "top_10_movies = movies_data.nlargest(10, 'vote_average')\n",
    "\n",
    "print(top_10_movies[[\"title\", \"genres\"]])"
   ]
  },
  {
   "cell_type": "markdown",
   "metadata": {
    "id": "Yp1OkK8CgLin"
   },
   "source": [
    "### 2. Top 10 movies with highest revenue"
   ]
  },
  {
   "cell_type": "code",
   "execution_count": 76,
   "metadata": {
    "colab": {
     "base_uri": "https://localhost:8080/"
    },
    "executionInfo": {
     "elapsed": 11,
     "status": "ok",
     "timestamp": 1737460521811,
     "user": {
      "displayName": "Trương Công Gia Phát",
      "userId": "05267275198321250233"
     },
     "user_tz": -420
    },
    "id": "SNhTzHyYgQ1E",
    "outputId": "6efc46f2-60f5-44d0-c980-62a35aeba48f"
   },
   "outputs": [
    {
     "name": "stdout",
     "output_type": "stream",
     "text": [
      "                                                title       revenue\n",
      "movieId                                                            \n",
      "72998                                          Avatar  2.787965e+09\n",
      "122886                   Star Wars: The Force Awakens  2.068224e+09\n",
      "1721                                          Titanic  1.845034e+09\n",
      "89745                                    The Avengers  1.519558e+09\n",
      "117529                                 Jurassic World  1.513529e+09\n",
      "130634                                      Furious 7  1.506249e+09\n",
      "122892                        Avengers: Age of Ultron  1.405404e+09\n",
      "88125    Harry Potter and the Deathly Hallows: Part 2  1.342000e+09\n",
      "106696                                         Frozen  1.274219e+09\n",
      "102125                                     Iron Man 3  1.215440e+09\n"
     ]
    }
   ],
   "source": [
    "top_10_revenues = movies_data.nlargest(10, 'revenue')\n",
    "\n",
    "print(top_10_revenues[[\"title\", \"revenue\"]])"
   ]
  },
  {
   "cell_type": "markdown",
   "metadata": {
    "id": "9lXuCDhPX-cx"
   },
   "source": [
    "### 3. Which month has the highes revenue?"
   ]
  },
  {
   "cell_type": "code",
   "execution_count": 77,
   "metadata": {
    "colab": {
     "base_uri": "https://localhost:8080/",
     "height": 607
    },
    "executionInfo": {
     "elapsed": 2124,
     "status": "ok",
     "timestamp": 1737460523928,
     "user": {
      "displayName": "Trương Công Gia Phát",
      "userId": "05267275198321250233"
     },
     "user_tz": -420
    },
    "id": "7qNxDNhiympd",
    "outputId": "d42a0b6c-1878-4b93-a458-eff11381875a"
   },
   "outputs": [
    {
     "data": {
      "image/png": "[encoded data removed]",
      "text/plain": [
       "<Figure size 1000x600 with 1 Axes>"
      ]
     },
     "metadata": {},
     "output_type": "display_data"
    }
   ],
   "source": [
    "movies_data['month'] = movies_data['release_date'].dt.month\n",
    "\n",
    "revenue_by_month = movies_data.groupby('month')['revenue'].sum()\n",
    "\n",
    "plt.figure(figsize=(10, 6))\n",
    "revenue_by_month.plot(kind='line', marker='o', color='r')\n",
    "\n",
    "plt.xlabel('Month')\n",
    "plt.ylabel('Total Revenue')\n",
    "plt.title('Monthly Revenue Comparison (Across All Years)')\n",
    "plt.xticks(rotation=0)\n",
    "plt.tight_layout()\n",
    "\n",
    "plt.show()"
   ]
  },
  {
   "cell_type": "markdown",
   "metadata": {
    "id": "mng5PdmN3B8x"
   },
   "source": [
    "We can see that movies from summer and winter gain the most revenue."
   ]
  },
  {
   "cell_type": "markdown",
   "metadata": {
    "id": "hDP3aglu2ucQ"
   },
   "source": [
    "### 4. Compare every genre by revenue."
   ]
  },
  {
   "cell_type": "code",
   "execution_count": 79,
   "metadata": {
    "colab": {
     "base_uri": "https://localhost:8080/"
    },
    "executionInfo": {
     "elapsed": 360,
     "status": "ok",
     "timestamp": 1737462624064,
     "user": {
      "displayName": "Trương Công Gia Phát",
      "userId": "05267275198321250233"
     },
     "user_tz": -420
    },
    "id": "QEexaP070j-o",
    "outputId": "29b0e7b1-11b1-4fb1-96a3-0551d7a9c8c3"
   },
   "outputs": [
    {
     "name": "stdout",
     "output_type": "stream",
     "text": [
      "      movieId           genres      revenue\n",
      "0           1        Animation  373554033.0\n",
      "1           1           Comedy  373554033.0\n",
      "2           1           Family  373554033.0\n",
      "3           2        Adventure  262797249.0\n",
      "4           2          Fantasy  262797249.0\n",
      "...       ...              ...          ...\n",
      "22486    5672        Animation   28023563.0\n",
      "22487    5672  Science Fiction   28023563.0\n",
      "22488    5672           Family   28023563.0\n",
      "22489  114342           Comedy    1359497.0\n",
      "22490  114342            Drama    1359497.0\n",
      "\n",
      "[22491 rows x 3 columns]\n"
     ]
    },
    {
     "name": "stderr",
     "output_type": "stream",
     "text": [
      "<ipython-input-79-82142c76ae69>:4: SettingWithCopyWarning: \n",
      "A value is trying to be set on a copy of a slice from a DataFrame.\n",
      "Try using .loc[row_indexer,col_indexer] = value instead\n",
      "\n",
      "See the caveats in the documentation: https://pandas.pydata.org/pandas-docs/stable/user_guide/indexing.html#returning-a-view-versus-a-copy\n",
      "  genre_revenue_df['genres'] = genre_revenue_df['genres'].str.split(', ')\n"
     ]
    }
   ],
   "source": [
    "genre_revenue_df = movies_data[[\"genres\", \"revenue\"]]\n",
    "\n",
    "genre_revenue_df\n",
    "genre_revenue_df['genres'] = genre_revenue_df['genres'].str.split(', ')\n",
    "df_exploded = genre_revenue_df.explode('genres').reset_index()\n",
    "\n",
    "print(df_exploded)"
   ]
  },
  {
   "cell_type": "code",
   "execution_count": 80,
   "metadata": {
    "colab": {
     "base_uri": "https://localhost:8080/",
     "height": 607
    },
    "executionInfo": {
     "elapsed": 967,
     "status": "ok",
     "timestamp": 1737462801228,
     "user": {
      "displayName": "Trương Công Gia Phát",
      "userId": "05267275198321250233"
     },
     "user_tz": -420
    },
    "id": "XIuoQFEG2lC4",
    "outputId": "da2d30cd-008c-4af8-e029-381a2f2b8a5b"
   },
   "outputs": [
    {
     "data": {
      "image/png": "[encoded data removed]",
      "text/plain": [
       "<Figure size 1000x600 with 1 Axes>"
      ]
     },
     "metadata": {},
     "output_type": "display_data"
    }
   ],
   "source": [
    "revenue_by_genre = df_exploded.groupby('genres')['revenue'].sum()\n",
    "\n",
    "plt.figure(figsize=(10, 6))\n",
    "revenue_by_genre.sort_values(ascending=False).plot(kind='bar', color='skyblue')\n",
    "\n",
    "plt.xlabel('Genres')\n",
    "plt.ylabel('Total Revenue')\n",
    "plt.title('Total Revenue by Genre')\n",
    "plt.xticks(rotation=45)\n",
    "plt.tight_layout()\n",
    "\n",
    "plt.show()"
   ]
  },
  {
   "cell_type": "markdown",
   "metadata": {
    "id": "qmeMhFVQ3ZLW"
   },
   "source": [
    "Adventure and action genres genrate the most income, comedy and drama are in third and fourth."
   ]
  }
 ],
 "metadata": {
  "colab": {
   "provenance": []
  },
  "kernelspec": {
   "display_name": "Python 3",
   "language": "python",
   "name": "python3"
  },
  "language_info": {
   "codemirror_mode": {
    "name": "ipython",
    "version": 3
   },
   "file_extension": ".py",
   "mimetype": "text/x-python",
   "name": "python",
   "nbconvert_exporter": "python",
   "pygments_lexer": "ipython3",
   "version": "3.12.1"
  }
 },
 "nbformat": 4,
 "nbformat_minor": 0
}
